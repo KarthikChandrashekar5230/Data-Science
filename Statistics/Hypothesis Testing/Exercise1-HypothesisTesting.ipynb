{
 "cells": [
  {
   "cell_type": "code",
   "execution_count": 21,
   "metadata": {},
   "outputs": [
    {
     "name": "stdout",
     "output_type": "stream",
     "text": [
      "Unit A and Unit B data follows Normal Distribution\n"
     ]
    }
   ],
   "source": [
    "import pandas as pd\n",
    "from scipy import stats\n",
    "\n",
    "cutlet=pd.read_csv(\"C:\\\\Users\\\\kp\\\\Pictures\\\\Assignments\\\\Hypothesis Testing\\\\Cutlets.csv\",header=0)\n",
    "\n",
    "#Normality test to determine whether the Sample Set takes Normal/Gaussian distribution or not\n",
    "stats_scoreA,pvalueA=stats.shapiro(cutlet['Unit A'])\n",
    "stats_scoreB,pvalueB=stats.shapiro(cutlet['Unit B'])\n",
    "if (pvalueA > 0.05 and pvalueB > 0.05):\n",
    "    print(\"Unit A and Unit B data follows Normal Distribution\")\n",
    "    \n",
    "else:\n",
    "    print(\"Unit A and Unit B data doesn't follow Normal Distribution\")\n",
    "    "
   ]
  },
  {
   "cell_type": "code",
   "execution_count": 22,
   "metadata": {},
   "outputs": [
    {
     "name": "stdout",
     "output_type": "stream",
     "text": [
      "Accept/Fail to Reject the Null Hypothesis: There is no difference between Sample Units i.e. Sample Units have equal Variance by Variance Test\n"
     ]
    }
   ],
   "source": [
    "#Hypotheses Definition\n",
    "#H0: Mean Diameter of Cutlet in Unit A = Mean Diameter of Cutlet in Unit B\n",
    "#H1: Mean Diameter of Cutlet in Unit A != Mean Diameter of Cutlet in Unit B\n",
    "\n",
    "#Variance Test\n",
    "var_stat,pvalue_var=stats.levene(cutlet['Unit A'],cutlet['Unit B'])\n",
    "\n",
    "if (pvalue_var < 0.05):\n",
    "    print(\"Reject the Null Hypothesis: There is a Significant Difference in Sample Units by Variance Test\")\n",
    "    \n",
    "else:\n",
    "    print(\"Accept/Fail to Reject the Null Hypothesis: There is no difference between Sample Units i.e. Sample Units have equal Variance by Variance Test\")  "
   ]
  },
  {
   "cell_type": "code",
   "execution_count": 23,
   "metadata": {},
   "outputs": [
    {
     "name": "stdout",
     "output_type": "stream",
     "text": [
      "Accept/Fail to Reject the Null Hypothesis: There is no difference between Sample Units i.e. Sample Units have equal Variance by t-test\n"
     ]
    }
   ],
   "source": [
    "#Two Tailed 2-Sample t-test Statistics is used\n",
    "ttest_stats,pvalue_ttest=stats.ttest_ind(cutlet['Unit A'],cutlet['Unit B'])\n",
    "\n",
    "if (pvalue_var < 0.05):\n",
    "    print(\"Reject the Null Hypothesis: There is a Significant Difference in Sample Units by t-test\")\n",
    "    \n",
    "else:\n",
    "    print(\"Accept/Fail to Reject the Null Hypothesis: There is no difference between Sample Units i.e. Sample Units have equal Variance by t-test\")  "
   ]
  }
 ],
 "metadata": {
  "kernelspec": {
   "display_name": "Python 3",
   "language": "python",
   "name": "python3"
  },
  "language_info": {
   "codemirror_mode": {
    "name": "ipython",
    "version": 3
   },
   "file_extension": ".py",
   "mimetype": "text/x-python",
   "name": "python",
   "nbconvert_exporter": "python",
   "pygments_lexer": "ipython3",
   "version": "3.7.7"
  }
 },
 "nbformat": 4,
 "nbformat_minor": 2
}
