{
 "cells": [
  {
   "cell_type": "code",
   "execution_count": 29,
   "metadata": {},
   "outputs": [
    {
     "data": {
      "text/plain": [
       "array([[287, 233],\n",
       "       [113, 167]], dtype=int64)"
      ]
     },
     "execution_count": 29,
     "metadata": {},
     "output_type": "execute_result"
    }
   ],
   "source": [
    "import pandas as pd\n",
    "from scipy import stats\n",
    "import numpy as np\n",
    "\n",
    "fantaloons = pd.read_csv(\"C:\\\\Users\\\\kp\\\\Pictures\\\\Assignments\\\\Hypothesis Testing\\\\Faltoons.csv\", header=0)\n",
    "lists_list_fantaloons=[list(np.array(fantaloons[col].value_counts())) for col in fantaloons.columns]\n",
    "lists_list_fantaloons=np.column_stack(lists_list_fantaloons)\n",
    "lists_list_fantaloons"
   ]
  },
  {
   "cell_type": "code",
   "execution_count": 30,
   "metadata": {},
   "outputs": [
    {
     "name": "stdout",
     "output_type": "stream",
     "text": [
      "P-Value from Chi-Square Distribution is:  8.54342267020237e-05\n",
      "Reject the Null Hypothesis: Gender ratio and Day of the week are not independent by Chi-Square test\n"
     ]
    }
   ],
   "source": [
    "# Hypotheses Definition\n",
    "# H0: Gender ratio and Day of the week are independent\n",
    "# H1: Gender ratio and Day of the week are not independent\n",
    "#Significance Level aplha set to 5%\n",
    "\n",
    "#Chi-Square Test is selected for this problem as the Data is of Categorical type\n",
    "Chisquares_results=stats.chi2_contingency(lists_list_fantaloons)\n",
    "Chi_pValue=Chisquares_results[1]\n",
    "print(\"P-Value from Chi-Square Distribution is: \",Chi_pValue)\n",
    "\n",
    "if (Chi_pValue < 0.05):\n",
    "    print(\"Reject the Null Hypothesis: Gender ratio and Day of the week are not independent by Chi-Square test\")\n",
    "\n",
    "else:\n",
    "    print(\"Accept/Fail to Reject the Null Hypothesis: Gender ratio and Day of the week are independent by Chi-Square test\")"
   ]
  }
 ],
 "metadata": {
  "kernelspec": {
   "display_name": "Python 3",
   "language": "python",
   "name": "python3"
  },
  "language_info": {
   "codemirror_mode": {
    "name": "ipython",
    "version": 3
   },
   "file_extension": ".py",
   "mimetype": "text/x-python",
   "name": "python",
   "nbconvert_exporter": "python",
   "pygments_lexer": "ipython3",
   "version": "3.7.7"
  }
 },
 "nbformat": 4,
 "nbformat_minor": 2
}
