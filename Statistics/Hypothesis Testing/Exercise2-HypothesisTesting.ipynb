{
 "cells": [
  {
   "cell_type": "code",
   "execution_count": 13,
   "metadata": {},
   "outputs": [
    {
     "name": "stdout",
     "output_type": "stream",
     "text": [
      "Normality Test:\n",
      "Data from all the Laboratories follows Normal Distribution\n"
     ]
    }
   ],
   "source": [
    "import pandas as pd\n",
    "from scipy import stats\n",
    "\n",
    "lab = pd.read_csv(\"C:\\\\Users\\\\kp\\\\Pictures\\\\Assignments\\\\Hypothesis Testing\\\\LabTAT.csv\", header=0)\n",
    "\n",
    "# Normality test to determine whether the Sample Set takes Normal/Gaussian distribution or not\n",
    "distribution1 = stats.shapiro(lab['Laboratory 1'])\n",
    "distribution2 = stats.shapiro(lab['Laboratory 2'])\n",
    "distribution3 = stats.shapiro(lab['Laboratory 3'])\n",
    "distribution4 = stats.shapiro(lab['Laboratory 4'])\n",
    "\n",
    "print('Normality Test:')\n",
    "if (distribution1[1]  > 0.05 and distribution2[1]  > 0.05 and distribution3[1]  > 0.05 and distribution4[1]  > 0.05):\n",
    "    print(\"Data from all the Laboratories follows Normal Distribution\")\n",
    "\n",
    "else:\n",
    "    print(\"Data from one or more Laboratories doesn't follow Normal Distribution\")"
   ]
  },
  {
   "cell_type": "code",
   "execution_count": 14,
   "metadata": {},
   "outputs": [
    {
     "name": "stdout",
     "output_type": "stream",
     "text": [
      "P-Value of F-Score: 2.1156708949992414e-57\n",
      "Reject the Null Hypothesis: There is an effective difference between two or more Sample sets by Anova Test\n"
     ]
    }
   ],
   "source": [
    "# Hypotheses Definition\n",
    "# H0: There is no significant difference/Varaition between the sample sets i.e two or more groups have same population mean\n",
    "# H1: There is an effective difference between two or more Sample sets i.e two or more groups have diferent population mean\n",
    "#Significance is choosen to be 5%\n",
    "\n",
    "#One Way Anova Test selected for this kind of hypothesis Testing which involves in determining the variance between the Sample Sets\n",
    "f_stats,pvalueF=stats.f_oneway(lab['Laboratory 1'],lab['Laboratory 2'],lab['Laboratory 3'],lab['Laboratory 4'])\n",
    "print(\"P-Value of F-Score:\",pvalueF)\n",
    "\n",
    "if (pvalueF < 0.05):\n",
    "    print(\"Reject the Null Hypothesis: There is an effective difference between two or more Sample sets by Anova Test\")\n",
    "\n",
    "else:\n",
    "    print(\"Accept/Fail to Reject the Null Hypothesis: There is no significant difference/Varaition between the sample sets i.e two or more groups have same population mean by Anova Test\")"
   ]
  }
 ],
 "metadata": {
  "kernelspec": {
   "display_name": "Python 3",
   "language": "python",
   "name": "python3"
  },
  "language_info": {
   "codemirror_mode": {
    "name": "ipython",
    "version": 3
   },
   "file_extension": ".py",
   "mimetype": "text/x-python",
   "name": "python",
   "nbconvert_exporter": "python",
   "pygments_lexer": "ipython3",
   "version": "3.7.7"
  }
 },
 "nbformat": 4,
 "nbformat_minor": 2
}
