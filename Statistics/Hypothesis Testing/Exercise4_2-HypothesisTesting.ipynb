{
 "cells": [
  {
   "cell_type": "code",
   "execution_count": 13,
   "metadata": {},
   "outputs": [
    {
     "data": {
      "text/plain": [
       "array([[271, 267, 269, 280],\n",
       "       [ 29,  33,  31,  20]], dtype=int64)"
      ]
     },
     "execution_count": 13,
     "metadata": {},
     "output_type": "execute_result"
    }
   ],
   "source": [
    "import pandas as pd\n",
    "from scipy import stats\n",
    "import numpy as np\n",
    "\n",
    "customer_forms = pd.read_csv(\"C:\\\\Users\\\\kp\\\\Pictures\\\\Assignments\\\\Hypothesis Testing\\\\Costomer+OrderForm.csv\", header=0)\n",
    "lists_list_customer_forms=[list(np.array(customer_forms[col].value_counts())) for col in customer_forms.columns]\n",
    "lists_list_customer_forms=np.column_stack(lists_list_customer_forms)\n",
    "lists_list_customer_forms"
   ]
  },
  {
   "cell_type": "code",
   "execution_count": 14,
   "metadata": {},
   "outputs": [
    {
     "name": "stdout",
     "output_type": "stream",
     "text": [
      "P-Value from Chi-Square Distribution is:  0.2771020991233135\n",
      "Accept/Fail to Reject the Null Hypothesis: Defective ratio and Centres are independent by Chi-Square test\n"
     ]
    }
   ],
   "source": [
    "# Hypotheses Definition\n",
    "# H0: Defective ratio and Centres are independent\n",
    "# H1: Defective ratio and Centres are not independent\n",
    "#Significance Level aplha set to 5%\n",
    "\n",
    "#Chi-Square Test is selected for this problem as the Data is of Categorical type\n",
    "Chisquares_results=stats.chi2_contingency(lists_list_customer_forms)\n",
    "Chi_pValue=Chisquares_results[1]\n",
    "print(\"P-Value from Chi-Square Distribution is: \",Chi_pValue)\n",
    "\n",
    "if (Chi_pValue < 0.05):\n",
    "    print(\"Reject the Null Hypothesis: Defective ratio and Centres are not independent by Chi-Square test\")\n",
    "\n",
    "else:\n",
    "    print(\"Accept/Fail to Reject the Null Hypothesis: Defective ratio and Centres are independent by Chi-Square test\")"
   ]
  }
 ],
 "metadata": {
  "kernelspec": {
   "display_name": "Python 3",
   "language": "python",
   "name": "python3"
  },
  "language_info": {
   "codemirror_mode": {
    "name": "ipython",
    "version": 3
   },
   "file_extension": ".py",
   "mimetype": "text/x-python",
   "name": "python",
   "nbconvert_exporter": "python",
   "pygments_lexer": "ipython3",
   "version": "3.7.4"
  }
 },
 "nbformat": 4,
 "nbformat_minor": 2
}
