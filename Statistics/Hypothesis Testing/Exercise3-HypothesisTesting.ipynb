{
 "cells": [
  {
   "cell_type": "code",
   "execution_count": 3,
   "metadata": {},
   "outputs": [
    {
     "name": "stdout",
     "output_type": "stream",
     "text": [
      "P-Value from Chi-Square Distribution is:  0.6603094907091882\n",
      "Accept/Fail to Reject the Null Hypothesis: Gender Buyer ratio and Specified Regions are independent by Chi-Square test\n"
     ]
    }
   ],
   "source": [
    "import pandas as pd\n",
    "from scipy import stats\n",
    "import numpy as np\n",
    "\n",
    "sales = pd.read_csv(\"C:\\\\Users\\\\kp\\\\Pictures\\\\Assignments\\\\Hypothesis Testing\\\\BuyerRatio.csv\", header=0)\n",
    "array_sales=np.array(sales.iloc[:,1:])\n",
    "\n",
    "# Hypotheses Definition\n",
    "# H0: Gender Buyer ratio and Specified Regions are independent.\n",
    "# H1: Gender Buyer ratio and Specified Regions are not independent\n",
    "#Significance Level aplha set to 5%\n",
    "\n",
    "#Chi-Square Test is selected for this problem as the Data is of Categorical type\n",
    "Chisquares_results=stats.chi2_contingency(array_sales)\n",
    "Chi_pValue=Chisquares_results[1]\n",
    "print(\"P-Value from Chi-Square Distribution is: \",Chi_pValue)\n",
    "\n",
    "if (Chi_pValue < 0.05):\n",
    "    print(\"Reject the Null Hypothesis: Gender Buyer ratio and Specified Regions are not independent by Chi-Square test\")\n",
    "\n",
    "else:\n",
    "    print(\"Accept/Fail to Reject the Null Hypothesis: Gender Buyer ratio and Specified Regions are independent by Chi-Square test\")"
   ]
  }
 ],
 "metadata": {
  "kernelspec": {
   "display_name": "Python 3",
   "language": "python",
   "name": "python3"
  },
  "language_info": {
   "codemirror_mode": {
    "name": "ipython",
    "version": 3
   },
   "file_extension": ".py",
   "mimetype": "text/x-python",
   "name": "python",
   "nbconvert_exporter": "python",
   "pygments_lexer": "ipython3",
   "version": "3.7.7"
  }
 },
 "nbformat": 4,
 "nbformat_minor": 2
}
