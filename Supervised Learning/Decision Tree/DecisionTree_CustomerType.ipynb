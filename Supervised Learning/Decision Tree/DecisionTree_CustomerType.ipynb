{
 "cells": [
  {
   "cell_type": "code",
   "execution_count": 112,
   "metadata": {},
   "outputs": [
    {
     "data": {
      "text/html": [
       "<div>\n",
       "<style scoped>\n",
       "    .dataframe tbody tr th:only-of-type {\n",
       "        vertical-align: middle;\n",
       "    }\n",
       "\n",
       "    .dataframe tbody tr th {\n",
       "        vertical-align: top;\n",
       "    }\n",
       "\n",
       "    .dataframe thead th {\n",
       "        text-align: right;\n",
       "    }\n",
       "</style>\n",
       "<table border=\"1\" class=\"dataframe\">\n",
       "  <thead>\n",
       "    <tr style=\"text-align: right;\">\n",
       "      <th></th>\n",
       "      <th>Undergrad</th>\n",
       "      <th>Marital.Status</th>\n",
       "      <th>City.Population</th>\n",
       "      <th>Work.Experience</th>\n",
       "      <th>Urban</th>\n",
       "      <th>Taxable.Income</th>\n",
       "    </tr>\n",
       "  </thead>\n",
       "  <tbody>\n",
       "    <tr>\n",
       "      <th>0</th>\n",
       "      <td>0</td>\n",
       "      <td>2</td>\n",
       "      <td>50047</td>\n",
       "      <td>10</td>\n",
       "      <td>1</td>\n",
       "      <td>Good</td>\n",
       "    </tr>\n",
       "    <tr>\n",
       "      <th>1</th>\n",
       "      <td>1</td>\n",
       "      <td>0</td>\n",
       "      <td>134075</td>\n",
       "      <td>18</td>\n",
       "      <td>1</td>\n",
       "      <td>Good</td>\n",
       "    </tr>\n",
       "    <tr>\n",
       "      <th>2</th>\n",
       "      <td>0</td>\n",
       "      <td>1</td>\n",
       "      <td>160205</td>\n",
       "      <td>30</td>\n",
       "      <td>1</td>\n",
       "      <td>Good</td>\n",
       "    </tr>\n",
       "    <tr>\n",
       "      <th>3</th>\n",
       "      <td>1</td>\n",
       "      <td>2</td>\n",
       "      <td>193264</td>\n",
       "      <td>15</td>\n",
       "      <td>1</td>\n",
       "      <td>Good</td>\n",
       "    </tr>\n",
       "    <tr>\n",
       "      <th>4</th>\n",
       "      <td>0</td>\n",
       "      <td>1</td>\n",
       "      <td>27533</td>\n",
       "      <td>28</td>\n",
       "      <td>0</td>\n",
       "      <td>Good</td>\n",
       "    </tr>\n",
       "    <tr>\n",
       "      <th>...</th>\n",
       "      <td>...</td>\n",
       "      <td>...</td>\n",
       "      <td>...</td>\n",
       "      <td>...</td>\n",
       "      <td>...</td>\n",
       "      <td>...</td>\n",
       "    </tr>\n",
       "    <tr>\n",
       "      <th>595</th>\n",
       "      <td>1</td>\n",
       "      <td>0</td>\n",
       "      <td>39492</td>\n",
       "      <td>7</td>\n",
       "      <td>1</td>\n",
       "      <td>Good</td>\n",
       "    </tr>\n",
       "    <tr>\n",
       "      <th>596</th>\n",
       "      <td>1</td>\n",
       "      <td>0</td>\n",
       "      <td>55369</td>\n",
       "      <td>2</td>\n",
       "      <td>1</td>\n",
       "      <td>Good</td>\n",
       "    </tr>\n",
       "    <tr>\n",
       "      <th>597</th>\n",
       "      <td>0</td>\n",
       "      <td>0</td>\n",
       "      <td>154058</td>\n",
       "      <td>0</td>\n",
       "      <td>1</td>\n",
       "      <td>Good</td>\n",
       "    </tr>\n",
       "    <tr>\n",
       "      <th>598</th>\n",
       "      <td>1</td>\n",
       "      <td>1</td>\n",
       "      <td>180083</td>\n",
       "      <td>17</td>\n",
       "      <td>0</td>\n",
       "      <td>Good</td>\n",
       "    </tr>\n",
       "    <tr>\n",
       "      <th>599</th>\n",
       "      <td>0</td>\n",
       "      <td>0</td>\n",
       "      <td>158137</td>\n",
       "      <td>16</td>\n",
       "      <td>0</td>\n",
       "      <td>Good</td>\n",
       "    </tr>\n",
       "  </tbody>\n",
       "</table>\n",
       "<p>600 rows × 6 columns</p>\n",
       "</div>"
      ],
      "text/plain": [
       "     Undergrad  Marital.Status  City.Population  Work.Experience  Urban  \\\n",
       "0            0               2            50047               10      1   \n",
       "1            1               0           134075               18      1   \n",
       "2            0               1           160205               30      1   \n",
       "3            1               2           193264               15      1   \n",
       "4            0               1            27533               28      0   \n",
       "..         ...             ...              ...              ...    ...   \n",
       "595          1               0            39492                7      1   \n",
       "596          1               0            55369                2      1   \n",
       "597          0               0           154058                0      1   \n",
       "598          1               1           180083               17      0   \n",
       "599          0               0           158137               16      0   \n",
       "\n",
       "    Taxable.Income  \n",
       "0             Good  \n",
       "1             Good  \n",
       "2             Good  \n",
       "3             Good  \n",
       "4             Good  \n",
       "..             ...  \n",
       "595           Good  \n",
       "596           Good  \n",
       "597           Good  \n",
       "598           Good  \n",
       "599           Good  \n",
       "\n",
       "[600 rows x 6 columns]"
      ]
     },
     "execution_count": 112,
     "metadata": {},
     "output_type": "execute_result"
    }
   ],
   "source": [
    "import pandas as pd\n",
    "from sklearn.model_selection import train_test_split\n",
    "from sklearn import preprocessing\n",
    "import numpy as np\n",
    "from sklearn.tree import  DecisionTreeClassifier\n",
    "import matplotlib.pyplot as plt\n",
    "\n",
    "customer_type = pd.read_csv(\"C:\\\\Users\\\\kp\\\\Pictures\\\\Assignments\\\\Decision Trees\\\\Fraud_check.csv\",header=0)\n",
    "customer_category=[]\n",
    "\n",
    "for value in customer_type['Taxable.Income']:\n",
    "    if (value <= 30000) :\n",
    "        customer_category.append('Risky')\n",
    "    else:\n",
    "        customer_category.append('Good')\n",
    "\n",
    "modified_customer_type=customer_type.drop(['Taxable.Income'],axis=1)\n",
    "modified_customer_type['Taxable.Income']=pd.Series(customer_category)\n",
    "\n",
    "encoder=preprocessing.LabelEncoder()\n",
    "modified_customer_type['Undergrad']=encoder.fit_transform(modified_customer_type['Undergrad'])\n",
    "modified_customer_type['Marital.Status']=encoder.fit_transform(modified_customer_type['Marital.Status'])\n",
    "modified_customer_type['Urban']=encoder.fit_transform(modified_customer_type['Urban'])\n",
    "\n",
    "features=modified_customer_type.columns[0:5]\n",
    "output=modified_customer_type.columns[5]\n",
    "modified_customer_type"
   ]
  },
  {
   "cell_type": "code",
   "execution_count": 113,
   "metadata": {},
   "outputs": [
    {
     "data": {
      "image/png": "[encoded data removed]",
      "text/plain": [
       "<Figure size 432x288 with 1 Axes>"
      ]
     },
     "metadata": {
      "needs_background": "light"
     },
     "output_type": "display_data"
    }
   ],
   "source": [
    "train_data,test_data = train_test_split(modified_customer_type,test_size = 0.2,random_state=8)\n",
    "\n",
    "#Decision Tree Model Training and prediction\n",
    "model_DT = DecisionTreeClassifier(criterion = 'entropy',max_depth = 4,min_samples_split=5)\n",
    "model_DT.fit(train_data[features],train_data[output])\n",
    "preds = model_DT.predict(test_data[features])\n",
    "\n",
    "#Plot to analyse variation between the Predicted values and the Actual Values on Train Dataset\n",
    "\n",
    "#pd.crosstab(train_data[output],model_DT.predict(train_data[features]))\n",
    "pd.crosstab(train_data[output],model_DT.predict(train_data[features])).plot(kind='bar',color=['red','blue'], grid=True)\n",
    "plt.legend(['Predicted as Good','Predicted as Risky'])\n",
    "plt.show()"
   ]
  },
  {
   "cell_type": "code",
   "execution_count": 114,
   "metadata": {},
   "outputs": [
    {
     "data": {
      "image/png": "[encoded data removed]",
      "text/plain": [
       "<Figure size 432x288 with 1 Axes>"
      ]
     },
     "metadata": {
      "needs_background": "light"
     },
     "output_type": "display_data"
    },
    {
     "name": "stdout",
     "output_type": "stream",
     "text": [
      "col_0           Good\n",
      "Taxable.Income      \n",
      "Good              98\n",
      "Risky             22\n"
     ]
    }
   ],
   "source": [
    "#Plot to analyse variation between the Predicted values and the Actual Values on Test Dataset\n",
    "pd.crosstab(test_data[output],preds).plot(kind='bar',color=['red','blue'], grid=True)\n",
    "plt.legend(['Predicted as Good','Predicted as Risky'])\n",
    "plt.show()\n",
    "print(pd.crosstab(test_data[output],preds))"
   ]
  },
  {
   "cell_type": "code",
   "execution_count": 115,
   "metadata": {},
   "outputs": [
    {
     "name": "stdout",
     "output_type": "stream",
     "text": [
      "Train Accuracy achieved by DT Algorithm(%):  79.375\n",
      "Test Accuracy achieved by DT Algorithm(%):  81.66666666666667\n"
     ]
    }
   ],
   "source": [
    "# Train Accuracy\n",
    "print(\"Train Accuracy achieved by DT Algorithm(%): \",np.mean(train_data['Taxable.Income'] == model_DT.predict(train_data[features]))*100)\n",
    "\n",
    "# Test Accuracy\n",
    "print(\"Test Accuracy achieved by DT Algorithm(%): \",np.mean(preds==test_data['Taxable.Income'])*100)"
   ]
  }
 ],
 "metadata": {
  "kernelspec": {
   "display_name": "Python 3",
   "language": "python",
   "name": "python3"
  },
  "language_info": {
   "codemirror_mode": {
    "name": "ipython",
    "version": 3
   },
   "file_extension": ".py",
   "mimetype": "text/x-python",
   "name": "python",
   "nbconvert_exporter": "python",
   "pygments_lexer": "ipython3",
   "version": "3.7.4"
  }
 },
 "nbformat": 4,
 "nbformat_minor": 2
}
