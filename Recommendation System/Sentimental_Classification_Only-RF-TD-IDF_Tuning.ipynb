{
 "cells": [
  {
   "cell_type": "code",
   "execution_count": 4,
   "metadata": {},
   "outputs": [],
   "source": [
    "import pandas as pd\n",
    "import re\n",
    "from nltk.corpus import stopwords\n",
    "from nltk.tokenize import word_tokenize\n",
    "from nltk.stem.wordnet import WordNetLemmatizer\n",
    "import numpy as np\n",
    "from sklearn.feature_extraction.text import TfidfVectorizer\n",
    "from sklearn.model_selection import train_test_split\n",
    "from sklearn.ensemble import RandomForestClassifier\n",
    "from sklearn.metrics import classification_report, confusion_matrix, accuracy_score\n",
    "\n",
    "raw_data_frame = pd.read_csv('C:\\\\Users\\\\kp\\\\Pictures\\\\Assignments\\\\Text Mining\\\\train_data_20000.csv',header=0)"
   ]
  },
  {
   "cell_type": "code",
   "execution_count": 5,
   "metadata": {},
   "outputs": [],
   "source": [
    "raw_data_frame.columns=raw_data_frame.columns.str.replace(\" \", \"\")\n",
    "raw_data_frame['Review_Rating'] = raw_data_frame['Review_Rating'].astype('float64')\n",
    "raw_data_frame['SentimentClass'] = raw_data_frame['SentimentClass'].astype('str')\n",
    "raw_data_frame['Review_Text'] = raw_data_frame['Review_Text'].astype('str')\n",
    "raw_data_frame = raw_data_frame.fillna(0)\n",
    "raw_data_frame.drop(raw_data_frame[raw_data_frame['Review_Rating'] == 0].index, axis=0, inplace=True)\n",
    "raw_data_frame.drop(raw_data_frame[raw_data_frame['SentimentClass'] == 0].index, axis=0, inplace=True)\n",
    "raw_data_frame.drop(raw_data_frame[raw_data_frame['Review_Text'] == 0].index, axis=0, inplace=True)\n",
    "raw_data_frame.drop_duplicates(subset='Review_Text', keep='first', inplace=True)\n",
    "raw_data_frame = raw_data_frame.reset_index()\n",
    "raw_data_frame.Review_Text = raw_data_frame.Review_Text.str.lower()\n",
    "raw_data_frame['Review_Text'] = raw_data_frame['Review_Text'].str.replace(\"'s'\", \"\")\n",
    "raw_data_frame[\"Review_Text\"] = raw_data_frame['Review_Text'].apply(lambda record: word_tokenize(record))\n",
    "stop_words = set(stopwords.words(\"english\"))\n",
    "exclude_stop_words = ['no', 'not', \"don't\", \"aren't\", 'ain', \"shouldn't\", \"haven't\", \"hadn't\"]\n",
    "stop_words = [word for word in stop_words if word not in set(exclude_stop_words)]\n",
    "raw_data_frame['Review_Text'] = raw_data_frame['Review_Text'].apply(lambda record: [word for word in record if word not in stop_words])\n",
    "    \n",
    "def apply_lemmatization(string_list):\n",
    "\n",
    "    lem = WordNetLemmatizer()\n",
    "    list = []\n",
    "\n",
    "    for word in string_list:\n",
    "        list.append(lem.lemmatize(word, \"v\"))\n",
    "\n",
    "    return list\n",
    "\n",
    "raw_data_frame['Review_Text'] = raw_data_frame['Review_Text'].apply(apply_lemmatization)\n",
    "raw_data_frame.Review_Text = raw_data_frame.Review_Text.apply(lambda record: \" \".join(record))\n",
    "raw_data_frame[\"Review_Text\"] = raw_data_frame['Review_Text'].apply(lambda x: re.sub('[^A-Za-z\" \"]+', \"\", x))\n",
    "class_codes = {'Negative': -1, 'Neutral': 0, 'Positive': 1}\n",
    "raw_data_frame['Class_Code'] = raw_data_frame['SentimentClass']\n",
    "raw_data_frame = raw_data_frame.replace({'Class_Code': class_codes})\n",
    "processed_data_frame=raw_data_frame\n",
    "\n",
    "X_train, X_test, y_train, y_test = train_test_split(processed_data_frame['Review_Text'],\n",
    "                                                    processed_data_frame['Class_Code'], test_size=0.15,random_state=8)\n",
    "\n",
    "tfidf = TfidfVectorizer(encoding='utf-8',\n",
    "                                ngram_range=(1, 2),\n",
    "                                stop_words=None,\n",
    "                                lowercase=False,\n",
    "                                max_df=1.0,\n",
    "                                min_df=10,\n",
    "                                max_features=800,\n",
    "                                norm='l2',\n",
    "                                sublinear_tf=True)\n",
    "\n",
    "predictors_train = tfidf.fit_transform(X_train).toarray()\n",
    "class_labels_train = y_train\n",
    "\n",
    "predictors_test = tfidf.transform(X_test).toarray()\n",
    "class_labels_test = y_test"
   ]
  },
  {
   "cell_type": "code",
   "execution_count": 6,
   "metadata": {},
   "outputs": [
    {
     "name": "stdout",
     "output_type": "stream",
     "text": [
      "The Training Accuracy is: \n",
      "0.9897571345745023\n",
      "The Test Accuracy is: \n",
      "0.833941605839416\n",
      "[[ 370   24  127]\n",
      " [  67   39  128]\n",
      " [  82   27 1876]]\n",
      "              precision    recall  f1-score   support\n",
      "\n",
      "          -1       0.71      0.71      0.71       521\n",
      "           0       0.43      0.17      0.24       234\n",
      "           1       0.88      0.95      0.91      1985\n",
      "\n",
      "    accuracy                           0.83      2740\n",
      "   macro avg       0.68      0.61      0.62      2740\n",
      "weighted avg       0.81      0.83      0.82      2740\n",
      "\n"
     ]
    }
   ],
   "source": [
    "rfc=RandomForestClassifier(n_estimators=100,criterion='gini',bootstrap='True',random_state=42)\n",
    "    \n",
    "rfc.fit(predictors_train, class_labels_train)\n",
    "rfc_pred = rfc.predict(predictors_test)\n",
    "    \n",
    "print(\"The Training Accuracy is: \")\n",
    "print(accuracy_score(class_labels_train, rfc.predict(predictors_train)))\n",
    "    \n",
    "print(\"The Test Accuracy is: \")\n",
    "print(accuracy_score(class_labels_test, rfc_pred))\n",
    "    \n",
    "conf_matrix = confusion_matrix(class_labels_test, rfc_pred)\n",
    "print(conf_matrix)\n",
    "print(classification_report(class_labels_test,rfc_pred))"
   ]
  }
 ],
 "metadata": {
  "kernelspec": {
   "display_name": "Python 3",
   "language": "python",
   "name": "python3"
  },
  "language_info": {
   "codemirror_mode": {
    "name": "ipython",
    "version": 3
   },
   "file_extension": ".py",
   "mimetype": "text/x-python",
   "name": "python",
   "nbconvert_exporter": "python",
   "pygments_lexer": "ipython3",
   "version": "3.7.4"
  }
 },
 "nbformat": 4,
 "nbformat_minor": 2
}
